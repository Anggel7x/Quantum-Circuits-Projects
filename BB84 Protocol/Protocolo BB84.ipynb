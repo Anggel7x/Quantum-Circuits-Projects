{
 "cells": [
  {
   "cell_type": "markdown",
   "id": "8b962946",
   "metadata": {},
   "source": [
    "# Protocolo BB84\n",
    "\n",
    "#### Angel Alvarez. 16-10031"
   ]
  },
  {
   "cell_type": "code",
   "execution_count": 4,
   "id": "6fbcd378",
   "metadata": {},
   "outputs": [],
   "source": [
    "import numpy as np\n",
    "import random\n",
    "from qiskit import *\n",
    "from qiskit.visualization import plot_histogram as plth"
   ]
  },
  {
   "cell_type": "code",
   "execution_count": 5,
   "id": "41a3afcb",
   "metadata": {},
   "outputs": [],
   "source": [
    "n = 10 #Tamaño de la muestra"
   ]
  },
  {
   "cell_type": "code",
   "execution_count": 6,
   "id": "b35b7778",
   "metadata": {},
   "outputs": [
    {
     "name": "stdout",
     "output_type": "stream",
     "text": [
      "0000010101\n"
     ]
    }
   ],
   "source": [
    "# Paso 1a: Generación de los bits de Alice\n",
    "\n",
    "alice_bits = random.choices(['1','0'], k=n)\n",
    "print(''.join(alice_bits))"
   ]
  },
  {
   "cell_type": "code",
   "execution_count": 7,
   "id": "d4a72c10",
   "metadata": {},
   "outputs": [
    {
     "name": "stdout",
     "output_type": "stream",
     "text": [
      "XZZXXZXXZZ\n"
     ]
    }
   ],
   "source": [
    "# Paso 1b: Codificacion en las bases\n",
    "\n",
    "alice_basis = random.choices(['Z','X'], k=n)\n",
    "print(''.join(alice_basis))"
   ]
  },
  {
   "cell_type": "code",
   "execution_count": 8,
   "id": "e7d0df9d",
   "metadata": {},
   "outputs": [
    {
     "name": "stdout",
     "output_type": "stream",
     "text": [
      "XXZXXXZZZZ\n"
     ]
    }
   ],
   "source": [
    "# Paso 2: Bases de Bob\n",
    "\n",
    "bob_basis = random.choices(['Z','X'], k=n)\n",
    "print(''.join(bob_basis))"
   ]
  },
  {
   "cell_type": "code",
   "execution_count": 9,
   "id": "80bdc4ac",
   "metadata": {},
   "outputs": [
    {
     "data": {
      "image/png": "[encoded data removed]",
      "text/plain": [
       "<Figure size 1049.8x686.28 with 1 Axes>"
      ]
     },
     "execution_count": 9,
     "metadata": {},
     "output_type": "execute_result"
    }
   ],
   "source": [
    "# Registros del circuito\n",
    "qr = QuantumRegister(n, name ='q')\n",
    "cr = ClassicalRegister(n, name='c')\n",
    "\n",
    "# Circuito\n",
    "\n",
    "circuit = QuantumCircuit(qr, cr)\n",
    "\n",
    "\n",
    "# Bits de Alice\n",
    "\n",
    "for q in range(n):\n",
    "    if alice_bits[q] == '1':\n",
    "        circuit.x(q)\n",
    "        \n",
    "circuit.barrier()\n",
    "# Codificacion de Alice\n",
    "\n",
    "for q in range(n):\n",
    "    if alice_basis[q] == 'X':\n",
    "        circuit.h(q)\n",
    "        \n",
    "circuit.barrier()\n",
    "\n",
    "# Medidas de Bob\n",
    "\n",
    "for q in range(n):\n",
    "    if bob_basis[q] == 'X':\n",
    "        circuit.h(q)\n",
    "        \n",
    "circuit.barrier()\n",
    "\n",
    "for q in range(n):\n",
    "    circuit.measure(q,n-1-q)\n",
    "\n",
    "\n",
    "circuit.draw(output='mpl')"
   ]
  },
  {
   "cell_type": "code",
   "execution_count": 11,
   "id": "dabb3c0d",
   "metadata": {},
   "outputs": [
    {
     "name": "stdout",
     "output_type": "stream",
     "text": [
      "0100011001\n"
     ]
    }
   ],
   "source": [
    "sim = Aer.get_backend('qasm_simulator')\n",
    "results = execute(circuit, backend = sim, shots = 1248).result()\n",
    "counts = results.get_counts()\n",
    "bob_result = random.choice(list(counts.keys())) \n",
    "print(bob_result)"
   ]
  },
  {
   "cell_type": "code",
   "execution_count": 12,
   "id": "86016a21",
   "metadata": {},
   "outputs": [
    {
     "name": "stdout",
     "output_type": "stream",
     "text": [
      "000001\n"
     ]
    }
   ],
   "source": [
    "# Paso 3: Comparacion de las bases\n",
    "\n",
    "accepted_bits = []\n",
    "locations = []\n",
    "\n",
    "for q in range(n):\n",
    "    if alice_basis[q] == bob_basis[q]:\n",
    "        accepted_bits.append(bob_result[q])\n",
    "        locations.append(q)\n",
    "        \n",
    "bob_bits = accepted_bits\n",
    "print(''.join(bob_bits))"
   ]
  },
  {
   "cell_type": "code",
   "execution_count": 13,
   "id": "326ed29a",
   "metadata": {},
   "outputs": [
    {
     "name": "stdout",
     "output_type": "stream",
     "text": [
      "[True]\n"
     ]
    }
   ],
   "source": [
    "# Paso 4: Seleccion de algunos bits para confirmar que son identicos entre Alice y Bob\n",
    "\n",
    "random_bits = random.choices(locations, k=int(n*0.1))\n",
    "\n",
    "verification = []\n",
    "\n",
    "for q in random_bits:\n",
    "     verification.append(alice_bits[q] == bob_result[q])\n",
    "        \n",
    "print(verification)\n",
    "    "
   ]
  },
  {
   "cell_type": "code",
   "execution_count": 14,
   "id": "b54e552b",
   "metadata": {},
   "outputs": [
    {
     "name": "stdout",
     "output_type": "stream",
     "text": [
      "00000\n"
     ]
    }
   ],
   "source": [
    "# Drop los elementos tomados\n",
    "\n",
    "final_key = []\n",
    "\n",
    "for q in locations:\n",
    "    if q not in random_bits:\n",
    "        final_key.append( bob_result[q] )\n",
    "\n",
    "KEY = ''.join(final_key)\n",
    "print(KEY)"
   ]
  },
  {
   "cell_type": "code",
   "execution_count": 15,
   "id": "f105971c",
   "metadata": {},
   "outputs": [
    {
     "data": {
      "text/plain": [
       "0.5"
      ]
     },
     "execution_count": 15,
     "metadata": {},
     "output_type": "execute_result"
    }
   ],
   "source": [
    "len(KEY)/n"
   ]
  },
  {
   "cell_type": "code",
   "execution_count": null,
   "id": "4172c60c",
   "metadata": {},
   "outputs": [],
   "source": []
  }
 ],
 "metadata": {
  "kernelspec": {
   "display_name": "Python 3",
   "language": "python",
   "name": "python3"
  },
  "language_info": {
   "codemirror_mode": {
    "name": "ipython",
    "version": 3
   },
   "file_extension": ".py",
   "mimetype": "text/x-python",
   "name": "python",
   "nbconvert_exporter": "python",
   "pygments_lexer": "ipython3",
   "version": "3.9.4"
  }
 },
 "nbformat": 4,
 "nbformat_minor": 5
}
