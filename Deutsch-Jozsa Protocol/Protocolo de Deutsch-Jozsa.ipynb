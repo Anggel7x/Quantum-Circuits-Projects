{
 "cells": [
  {
   "cell_type": "markdown",
   "id": "d2988bdd",
   "metadata": {},
   "source": [
    "### Protocolo de Deutsch-Jozsa\n",
    "Segundo Examen Parcial  \n",
    "Problema 3.2  \n",
    "Angel Alvarez. 16-10031  "
   ]
  },
  {
   "cell_type": "markdown",
   "id": "fb7f1a03",
   "metadata": {},
   "source": [
    "#### Implementación\n",
    "\n",
    "Primero importamos las librerias necesarias durante la simulación y emulación del protocolo.  \n",
    "Empezando desde las comunes de Qiskit, las credenciales para la emulación, graficación y extras. "
   ]
  },
  {
   "cell_type": "code",
   "execution_count": 2,
   "id": "0c065490",
   "metadata": {},
   "outputs": [],
   "source": [
    "# Librerias Qiskit\n",
    "from qiskit import *\n",
    "from qiskit.providers.ibmq import least_busy\n",
    "\n",
    "#Importantes para la emulacion\n",
    "from qiskit import QuantumCircuit, transpile, assemble, Aer\n",
    "\n",
    "\n",
    "# Plots\n",
    "from qiskit.visualization import plot_histogram as plth\n",
    "\n",
    "# Extras\n",
    "import numpy as np"
   ]
  },
  {
   "cell_type": "markdown",
   "id": "aa09663a",
   "metadata": {},
   "source": [
    "El oráculo es la parte de nuestro circuito más flexible, pues dependerá si la función es balanceada o constante. \n",
    "\n",
    "La funcion *dj_oraculo* toma los argumentos:  \n",
    "\n",
    "* (int) n: es el número de qubits.\n",
    "* (bool) balanceada: si la función es balanceada es True y si es constante es False."
   ]
  },
  {
   "cell_type": "code",
   "execution_count": 3,
   "id": "ee4f3f47",
   "metadata": {},
   "outputs": [],
   "source": [
    "def dj_oraculo(n, balanceada=True):\n",
    "    # Definicion del sub-circuito oráculo \n",
    "    \n",
    "    # Registro cuántico del oráculo\n",
    "    qr = QuantumRegister(n+1)\n",
    "    \n",
    "    # Ensamblado del circuito\n",
    "    oraculo_qc = QuantumCircuit(qr)\n",
    "    \n",
    "    if balanceada: ## f(x) es balanceada \n",
    "        # Generacián aleatoria de los qubits de control envueltos en X.\n",
    "        b = np.random.randint(1,2**n) # Námero al azar entre 1 y 2^n-1\n",
    "        b_str = format(b, '0'+str(n)+'b') # Número al azar convertido a una cadena de bits\n",
    "        N = len(b_str) # Longitud de la cada de bits\n",
    "        \n",
    "        # Primeras X a los qubits de control dependientes de la cadena de bits\n",
    "        for qubit in range(N):\n",
    "            if b_str[qubit] == \"1\":\n",
    "                oraculo_qc.x(qubit)\n",
    "                \n",
    "        # CNOT entre cada qubit del registro 1 con el registro 2\n",
    "        for qubit in range(n):\n",
    "            oraculo_qc.cx(qubit,n)\n",
    "            \n",
    "        # Ultimas X a los qubits de control dependientes de la cadena de bits\n",
    "        for qubit in range(N):\n",
    "            if b_str[qubit] == 1:\n",
    "                oraculo_qc.x(qubit)\n",
    "                \n",
    "    else : ## f(x) es constante\n",
    "        # Esocojamos al azar si nuestra f(x) es 0 o 1\n",
    "        output = np.random.randint(2)\n",
    "        if output == 1:\n",
    "            oraculo_qc.x(n) # Aplicamos X al 2do registro\n",
    "        else :\n",
    "            oraculo_qc.i(n) # No hace daño enfatizar que se aplica I\n",
    "        \n",
    "    oraculo_gate = oraculo_qc.to_gate() # Conversión de nuestro sub-circuito a una compuerta\n",
    "    oraculo_gate.name = \"$U_f\\;(Oraculo)$\" # Nombre de la compuerta\n",
    "    return oraculo_gate"
   ]
  },
  {
   "cell_type": "markdown",
   "id": "91c35bf3",
   "metadata": {},
   "source": [
    "La siguiente función es *dj_circuit* construye como un todo el circuito del protocolo. Para eso toma los argumentos:  \n",
    "\n",
    "* (int) n: Número de qubits que utilizará el circuito.\n",
    "* (bool) oraculo: Si nuestro oráculo es para una función balanceada será True, si es para una función constante será False."
   ]
  },
  {
   "cell_type": "code",
   "execution_count": 4,
   "id": "6c2c3b75",
   "metadata": {},
   "outputs": [],
   "source": [
    "# Ensamblado del circuito completo del protocolo\n",
    "def dj_circuit(n, oraculo=True):\n",
    "    \n",
    "    # Regitros del circuito\n",
    "    qr = QuantumRegister(n+1, name='q')\n",
    "    cr = ClassicalRegister(n, name='c')\n",
    "    \n",
    "    #Ensamblado del circuito\n",
    "    dj_c = QuantumCircuit(qr, cr)\n",
    "\n",
    "    # Inicializamos el circuito con el primer registro en 0 y el segundo 1 \n",
    "    dj_c.x(n)\n",
    "\n",
    "    # Aplicar Hadamard a cada regitro\n",
    "    dj_c.h(range(n+1))\n",
    "\n",
    "    # Aplicamos el oráculo \n",
    "    oraculo = dj_oraculo(n, oraculo) #Balanceado\n",
    "    dj_c.append(oraculo, range(n+1))\n",
    "    \n",
    "    # Aplicar Hadamard al primer registro\n",
    "    dj_c.h(range(n))\n",
    "    \n",
    "    # Medimos el primer regitro\n",
    "    for i in range(n):\n",
    "        dj_c.measure(i, i)\n",
    "    \n",
    "    return dj_c"
   ]
  },
  {
   "cell_type": "markdown",
   "id": "678edec4",
   "metadata": {},
   "source": [
    "#### Simulación\n",
    "\n",
    "Probamos para una $f(x)$ constante y $n=4$"
   ]
  },
  {
   "cell_type": "code",
   "execution_count": 5,
   "id": "575d4121",
   "metadata": {},
   "outputs": [
    {
     "data": {
      "image/png": "[encoded data removed]",
      "text/plain": [
       "<Figure size 688.597x385.28 with 1 Axes>"
      ]
     },
     "execution_count": 5,
     "metadata": {},
     "output_type": "execute_result"
    }
   ],
   "source": [
    "n = 4\n",
    "dj_circuit0 = dj_circuit(n, True)\n",
    "dj_circuit0.draw(output=\"mpl\")"
   ]
  },
  {
   "cell_type": "code",
   "execution_count": 6,
   "id": "8b9ee878",
   "metadata": {},
   "outputs": [
    {
     "data": {
      "image/png": "[encoded data removed]",
      "text/plain": [
       "<Figure size 504x360 with 1 Axes>"
      ]
     },
     "execution_count": 6,
     "metadata": {},
     "output_type": "execute_result"
    }
   ],
   "source": [
    "# Corrida y visualización de los resultados\n",
    "sim = Aer.get_backend('qasm_simulator')\n",
    "results = execute(dj_circuit0, backend = sim, shots = 8192).result()\n",
    "counts = results.get_counts()\n",
    "plth(counts)"
   ]
  },
  {
   "cell_type": "markdown",
   "id": "73bed1a9",
   "metadata": {},
   "source": [
    "Probamos para una $f(x)$ balanceada y $n=4$"
   ]
  },
  {
   "cell_type": "code",
   "execution_count": 7,
   "id": "cb7ff5e4",
   "metadata": {},
   "outputs": [
    {
     "data": {
      "image/png": "[encoded data removed]",
      "text/plain": [
       "<Figure size 504x360 with 1 Axes>"
      ]
     },
     "execution_count": 7,
     "metadata": {},
     "output_type": "execute_result"
    }
   ],
   "source": [
    "dj_circuit1 = dj_circuit(n, False)\n",
    "results = execute(dj_circuit1, backend = sim, shots = 8192).result()\n",
    "counts = results.get_counts()\n",
    "plth(counts)"
   ]
  },
  {
   "cell_type": "markdown",
   "id": "2597e125",
   "metadata": {},
   "source": [
    "#### Conclusión\n",
    "\n",
    "Como vemos en la simulacion y emulacion las probabilidades en cada caso concuerda, aun con los errores presentes en los computadores reales los resultados son satisfactorios para el protocolo de Deutsch-Jozsa"
   ]
  }
 ],
 "metadata": {
  "kernelspec": {
   "display_name": "Python 3",
   "language": "python",
   "name": "python3"
  },
  "language_info": {
   "codemirror_mode": {
    "name": "ipython",
    "version": 3
   },
   "file_extension": ".py",
   "mimetype": "text/x-python",
   "name": "python",
   "nbconvert_exporter": "python",
   "pygments_lexer": "ipython3",
   "version": "3.9.4"
  }
 },
 "nbformat": 4,
 "nbformat_minor": 5
}
