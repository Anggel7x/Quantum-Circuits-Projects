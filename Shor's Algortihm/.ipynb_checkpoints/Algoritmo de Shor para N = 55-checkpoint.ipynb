{
 "cells": [
  {
   "cell_type": "markdown",
   "id": "bb6a4520",
   "metadata": {},
   "source": [
    "### Algoritmo de Shor para $N = 55$\n",
    "\n",
    "En este caso se simula y emula el algoritmo de Shor para $N=55$ y $a=12$ usando el circuito de la figura (7)."
   ]
  },
  {
   "cell_type": "markdown",
   "id": "f0add812",
   "metadata": {},
   "source": [
    "* Carga de Librerias"
   ]
  },
  {
   "cell_type": "code",
   "execution_count": 1,
   "id": "dc69ed08",
   "metadata": {},
   "outputs": [],
   "source": [
    "# Librerias Qiskit\n",
    "from qiskit import *\n",
    "from qiskit import QuantumCircuit, transpile, assemble, Aer, IBMQ\n",
    "from qiskit.providers.ibmq import least_busy\n",
    "from qiskit.tools.monitor import job_monitor\n",
    "from qiskit.extensions import *\n",
    "from qiskit.circuit.library import QFT\n",
    "\n",
    "# Plots\n",
    "from qiskit.visualization import plot_histogram as plth"
   ]
  },
  {
   "cell_type": "code",
   "execution_count": 2,
   "id": "257ee389",
   "metadata": {},
   "outputs": [],
   "source": [
    "# Extras\n",
    "import numpy as np\n",
    "from math import pi, ceil, log, gcd\n",
    "import pandas as pd\n",
    "from fractions import Fraction\n",
    "import random\n",
    "random.seed(1) #Permite hacer simulaciones reproducibles con las misma probabilidades"
   ]
  },
  {
   "cell_type": "code",
   "execution_count": 3,
   "id": "ee442f3d",
   "metadata": {},
   "outputs": [],
   "source": [
    "#Cargar La cuenta en la IBM\n",
    "IBMQ.load_account()\n",
    "provider = IBMQ.get_provider('ibm-q')"
   ]
  },
  {
   "cell_type": "markdown",
   "id": "08927caf",
   "metadata": {},
   "source": [
    "* Construcción del circuito de la figura (7)."
   ]
  },
  {
   "cell_type": "code",
   "execution_count": 4,
   "id": "3be32e84",
   "metadata": {},
   "outputs": [
    {
     "data": {
      "image/png": "[encoded data removed]",
      "text/plain": [
       "<Figure size 628.397x325.08 with 1 Axes>"
      ]
     },
     "execution_count": 4,
     "metadata": {},
     "output_type": "execute_result"
    }
   ],
   "source": [
    "# Circuito de Shor\n",
    "\n",
    "#Parametros\n",
    "l = 2\n",
    "k = 2\n",
    "n = k+l\n",
    "\n",
    "#Ensamblado\n",
    "qr = QuantumRegister(n, 'q')\n",
    "cr = ClassicalRegister(l, 'c')\n",
    "qc = QuantumCircuit(qr, cr)\n",
    "\n",
    "#Inicializacion\n",
    "qc.x(-1)\n",
    "\n",
    "# Superposicion de todos los estados x\n",
    "qc.h([i for i in range(l)])\n",
    "\n",
    "# Compuerta U\n",
    "\n",
    "qc.cx(0,2)\n",
    "qc.x([0,1])\n",
    "qc.ccx(0,1,3)\n",
    "qc.x([0,1])\n",
    "qc.ccx(0,1,3)\n",
    "\n",
    "# QFT inversa\n",
    "qc.append(QFT(l, insert_barriers=True, inverse=True), qargs=[qubit for qubit in range(l) ])\n",
    "\n",
    "# Medida\n",
    "qc.measure([qubit for qubit in range(l) ],[qubit for qubit in range(l) ])\n",
    "\n",
    "#Dibujo\n",
    "qc.draw(output=\"mpl\") "
   ]
  },
  {
   "cell_type": "markdown",
   "id": "ee3e4a49",
   "metadata": {},
   "source": [
    "* Definición de funciones auxiliares"
   ]
  },
  {
   "cell_type": "code",
   "execution_count": 5,
   "id": "693bedb8",
   "metadata": {},
   "outputs": [],
   "source": [
    "def printTable(backend, n_count=l):\n",
    "    \"\"\"\n",
    "    Esta funcion toma la salida de un circuito cuantico simulado muchas veces y transforma lo valores\n",
    "    a una tabla con la distintas fases e intentos para r. Ademas de decir el tiempo que tomo ejecutarlo\n",
    "    \"\"\"\n",
    "    rows, measured_phases = [], []\n",
    "    for output in counts:\n",
    "        decimal = int(output, 2)\n",
    "        phase = decimal/(2**n_count) \n",
    "        measured_phases.append(phase)\n",
    "        frac = Fraction(phase).limit_denominator(55)\n",
    "        rows.append([f\"{output}(bin) = {decimal:>3}(dec)\", \n",
    "                 f\"{decimal}/{2**n_count} = {phase:.2f}\",f\"{frac.numerator}/{frac.denominator}\", frac.denominator])\n",
    "    # Print the rows in a table\n",
    "    print(\"Computador usado: \", backend, \"\\nTiempo tomado:\", results.time_taken)\n",
    "    headers=[\"Salida medida\", \"Fase\", \"Fraccion\", \"Intento de r\"]\n",
    "    df = pd.DataFrame(rows, columns=headers)\n",
    "    print(df)\n",
    "    \n",
    "    # Ejecucion de nuestro circuito en el computador REAL\n",
    "def runCircuit(backend_name):\n",
    "    \"\"\"\n",
    "    Esta funcion toma el nombre de una computadora cuantica real de la IBM y corre el circuito simulado en la seccion anterior\n",
    "    \"\"\"\n",
    "    backend = provider.get_backend(backend_name)# Escogemos los sistemas que se usarán en la práctica\n",
    "    transpiled_qc = transpile(qc, backend, optimization_level=3)\n",
    "    transpiled_qc = [transpiled_qc for i in range(9)]\n",
    "    job = execute(transpiled_qc, backend=backend, shots=8192, optimization_level=3)\n",
    "    job_monitor(job)\n",
    "    return backend, job"
   ]
  },
  {
   "cell_type": "markdown",
   "id": "ff05358a",
   "metadata": {},
   "source": [
    "### Simulación\n",
    "\n",
    "En esta parte se simula el circuito en el QASM Simulator de Qiskit, básico para entender si es posible obtener los resultados correctos."
   ]
  },
  {
   "cell_type": "code",
   "execution_count": 6,
   "id": "c52e54e0",
   "metadata": {},
   "outputs": [
    {
     "data": {
      "image/png": "[encoded data removed]",
      "text/plain": [
       "<Figure size 504x360 with 1 Axes>"
      ]
     },
     "execution_count": 6,
     "metadata": {},
     "output_type": "execute_result"
    }
   ],
   "source": [
    "backend = Aer.get_backend('qasm_simulator')\n",
    "results = execute(qc, backend = backend, shots = 8192).result()\n",
    "counts = results.get_counts()\n",
    "plth(counts)"
   ]
  },
  {
   "cell_type": "code",
   "execution_count": 7,
   "id": "74e69255",
   "metadata": {},
   "outputs": [
    {
     "name": "stdout",
     "output_type": "stream",
     "text": [
      "Computador usado:  qasm_simulator \n",
      "Tiempo tomado: 0.023214340209960938\n",
      "        Salida medida        Fase Fraccion  Intento de r\n",
      "0  10(bin) =   2(dec)  2/4 = 0.50      1/2             2\n",
      "1  11(bin) =   3(dec)  3/4 = 0.75      3/4             4\n",
      "2  00(bin) =   0(dec)  0/4 = 0.00      0/1             1\n",
      "3  01(bin) =   1(dec)  1/4 = 0.25      1/4             4\n"
     ]
    }
   ],
   "source": [
    "printTable(backend)"
   ]
  },
  {
   "cell_type": "markdown",
   "id": "05092a06",
   "metadata": {},
   "source": [
    "Como obtenemos $r=4$ con una probabilidad de $0.249$, no existe problema al escoger $3/4$,pues 3 y 4 son coprimos, y converge sin problemas a 0.75\n",
    "Basta con hacer el último paso del algoritmo y verificar que $r=4$ funciona con la base $a=12$, obteniendo asi $p$ y $q$ con:\n",
    "\n",
    "$$\n",
    "p = gcd(12^{4/2}+1,55) = 5 \\\\\n",
    "q = gcd(12^{4/2}-1,55) = 11\n",
    "$$\n",
    "\n",
    "Finalmente, $55=5.11$"
   ]
  },
  {
   "cell_type": "markdown",
   "id": "0d5afcb6",
   "metadata": {},
   "source": [
    "### Emulación\n",
    "\n",
    "Para la parte de emulación utilizaremos 3 computadores cuánticos de la IBM:\n",
    "    \n",
    "- IBMQ Santiago: https://quantum-computing.ibm.com/services?services=systems&systems=yours&system=ibmq_santiago\n",
    "- IBMQ Quito: https://quantum-computing.ibm.com/services?services=systems&systems=yours&system=ibmq_quito\n",
    "- IBMQ Bogota: https://quantum-computing.ibm.com/services?services=systems&systems=yours&system=ibmq_bogota\n",
    "\n",
    "Cada circuito se emulará 10 veces, de allí obtendremos el promedio y la desviación estándard de las probabilidades de interés medidas. También se tomará en cuenta el tiempo de ejecución total de los 10 circuitos."
   ]
  },
  {
   "cell_type": "markdown",
   "id": "89d70c39",
   "metadata": {},
   "source": [
    "##### IBMQ Santiago"
   ]
  },
  {
   "cell_type": "code",
   "execution_count": 13,
   "id": "b4b2f5c9",
   "metadata": {},
   "outputs": [
    {
     "name": "stdout",
     "output_type": "stream",
     "text": [
      "Job Status: job has successfully run\n"
     ]
    }
   ],
   "source": [
    "backend0, job0 = runCircuit(\"ibmq_santiago\")\n",
    "results0 = job0.result()\n",
    "counts0 = results0.get_counts()"
   ]
  },
  {
   "cell_type": "code",
   "execution_count": 34,
   "id": "fe59d1db",
   "metadata": {},
   "outputs": [
    {
     "name": "stdout",
     "output_type": "stream",
     "text": [
      "0.22664388020833334 0.019716024574192755\n",
      "27.766098022460938\n"
     ]
    }
   ],
   "source": [
    "probs = list()\n",
    "for dict in counts0:\n",
    "    probs.append((dict['11'])/8192.)\n",
    "print(np.mean(probs),np.std(probs))\n",
    "print(results0.time_taken)"
   ]
  },
  {
   "cell_type": "code",
   "execution_count": 35,
   "id": "299e471f",
   "metadata": {},
   "outputs": [
    {
     "data": {
      "image/png": "[encoded data removed]",
      "text/plain": [
       "<Figure size 504x360 with 1 Axes>"
      ]
     },
     "execution_count": 35,
     "metadata": {},
     "output_type": "execute_result"
    }
   ],
   "source": [
    "plth(counts0[0])"
   ]
  },
  {
   "cell_type": "markdown",
   "id": "65087dcf",
   "metadata": {},
   "source": [
    "###### Resultados\n",
    "\n",
    "* Tiempo de Ejecución: $27.766 s$\n",
    "* Probabilidad de medir $r=4$: Promedio = $0.227$ , $\\sigma$ = $0.020$  "
   ]
  },
  {
   "cell_type": "markdown",
   "id": "d1e60243",
   "metadata": {},
   "source": [
    "##### IBMQ Quito"
   ]
  },
  {
   "cell_type": "code",
   "execution_count": 15,
   "id": "e0da6529",
   "metadata": {},
   "outputs": [
    {
     "name": "stdout",
     "output_type": "stream",
     "text": [
      "Job Status: job has successfully run\n"
     ]
    }
   ],
   "source": [
    "backend1, job1 = runCircuit(\"ibmq_quito\")\n",
    "results1 = job1.result()\n",
    "counts1 = results1.get_counts()"
   ]
  },
  {
   "cell_type": "code",
   "execution_count": 32,
   "id": "ee75ad73",
   "metadata": {},
   "outputs": [
    {
     "name": "stdout",
     "output_type": "stream",
     "text": [
      "0.23311360677083334 0.00821053306679699\n",
      "24.785318613052368\n"
     ]
    }
   ],
   "source": [
    "probs = list()\n",
    "for dict in counts1:\n",
    "    probs.append((dict['11'])/8192.)\n",
    "print(np.mean(probs),np.std(probs))\n",
    "print(results1.time_taken)"
   ]
  },
  {
   "cell_type": "code",
   "execution_count": 33,
   "id": "3e4d8e0d",
   "metadata": {},
   "outputs": [
    {
     "data": {
      "image/png": "[encoded data removed]",
      "text/plain": [
       "<Figure size 504x360 with 1 Axes>"
      ]
     },
     "execution_count": 33,
     "metadata": {},
     "output_type": "execute_result"
    }
   ],
   "source": [
    "plth(counts1[0])"
   ]
  },
  {
   "cell_type": "markdown",
   "id": "42793aa9",
   "metadata": {},
   "source": [
    "###### Resultados\n",
    "\n",
    "* Tiempo de Ejecución: $24.785 s$\n",
    "* Probabilidad de medir $r=4$: Promedio = $0.233$ , $\\sigma$ = $0.008$   "
   ]
  },
  {
   "cell_type": "markdown",
   "id": "7dbf7eb5",
   "metadata": {},
   "source": [
    "##### IBMQ Bogota"
   ]
  },
  {
   "cell_type": "code",
   "execution_count": 29,
   "id": "86c7e000",
   "metadata": {},
   "outputs": [
    {
     "name": "stdout",
     "output_type": "stream",
     "text": [
      "Job Status: job has successfully run\n"
     ]
    }
   ],
   "source": [
    "backend2, job2 = runCircuit(\"ibmq_bogota\")\n",
    "results2 = job2.result()\n",
    "counts2 = results2.get_counts()"
   ]
  },
  {
   "cell_type": "code",
   "execution_count": 30,
   "id": "6082f80b",
   "metadata": {},
   "outputs": [
    {
     "name": "stdout",
     "output_type": "stream",
     "text": [
      "0.2282036675347222 0.016245200996332927\n",
      "27.84783363342285\n"
     ]
    }
   ],
   "source": [
    "probs = list()\n",
    "for dict in counts2:\n",
    "    probs.append((dict['11'])/8192.)\n",
    "print(np.mean(probs),np.std(probs))\n",
    "print(results2.time_taken)"
   ]
  },
  {
   "cell_type": "code",
   "execution_count": 31,
   "id": "8f9bd83d",
   "metadata": {},
   "outputs": [
    {
     "data": {
      "image/png": "[encoded data removed]",
      "text/plain": [
       "<Figure size 504x360 with 1 Axes>"
      ]
     },
     "execution_count": 31,
     "metadata": {},
     "output_type": "execute_result"
    }
   ],
   "source": [
    "plth(counts2[0])"
   ]
  },
  {
   "cell_type": "markdown",
   "id": "16a72faf",
   "metadata": {},
   "source": [
    "###### Resultados\n",
    "\n",
    "* Tiempo de Ejecución: $27.848 s$\n",
    "* Probabilidad de medir $r=4$: Promedio = $0.228$ , $\\sigma$ = $0.016$  "
   ]
  },
  {
   "cell_type": "code",
   "execution_count": null,
   "id": "a189a68a",
   "metadata": {},
   "outputs": [],
   "source": []
  }
 ],
 "metadata": {
  "kernelspec": {
   "display_name": "Python 3",
   "language": "python",
   "name": "python3"
  },
  "language_info": {
   "codemirror_mode": {
    "name": "ipython",
    "version": 3
   },
   "file_extension": ".py",
   "mimetype": "text/x-python",
   "name": "python",
   "nbconvert_exporter": "python",
   "pygments_lexer": "ipython3",
   "version": "3.9.4"
  }
 },
 "nbformat": 4,
 "nbformat_minor": 5
}
