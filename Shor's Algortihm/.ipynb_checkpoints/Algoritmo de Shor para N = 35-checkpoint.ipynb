{
 "cells": [
  {
   "cell_type": "markdown",
   "id": "1c8d04a3",
   "metadata": {},
   "source": [
    "### Algoritmo de Shor para $N = 35$\n",
    "\n",
    "En este caso se simula y emula el algoritmo de Shor para $N=35$ y $a=12$ usando el circuito de la figura (5)."
   ]
  },
  {
   "cell_type": "markdown",
   "id": "076f14dc",
   "metadata": {},
   "source": [
    "* Carga de Librerias"
   ]
  },
  {
   "cell_type": "code",
   "execution_count": 1,
   "id": "dc69ed08",
   "metadata": {},
   "outputs": [],
   "source": [
    "# Librerias Qiskit\n",
    "from qiskit import *\n",
    "from qiskit import QuantumCircuit, transpile, assemble, Aer, IBMQ\n",
    "from qiskit.providers.ibmq import least_busy\n",
    "from qiskit.tools.monitor import job_monitor\n",
    "from qiskit.extensions import *\n",
    "from qiskit.circuit.library import QFT\n",
    "\n",
    "# Plots\n",
    "from qiskit.visualization import plot_histogram as plth"
   ]
  },
  {
   "cell_type": "code",
   "execution_count": 2,
   "id": "257ee389",
   "metadata": {},
   "outputs": [],
   "source": [
    "# Extras\n",
    "import numpy as np\n",
    "from math import pi, ceil, log, gcd\n",
    "import pandas as pd\n",
    "from fractions import Fraction"
   ]
  },
  {
   "cell_type": "code",
   "execution_count": 3,
   "id": "ee442f3d",
   "metadata": {},
   "outputs": [],
   "source": [
    "#Cargar La cuenta en la IBM\n",
    "IBMQ.load_account()\n",
    "provider = IBMQ.get_provider('ibm-q')"
   ]
  },
  {
   "cell_type": "markdown",
   "id": "707a7181",
   "metadata": {},
   "source": [
    "* Construcción del circuito de la figura (5)."
   ]
  },
  {
   "cell_type": "code",
   "execution_count": 4,
   "id": "aa90438c",
   "metadata": {},
   "outputs": [],
   "source": [
    "def U():\n",
    "    \"\"\"\n",
    "    Funcion que construye la compuerta controlada para esta U en especifico\n",
    "    \"\"\"\n",
    "    u = QuantumCircuit(2)\n",
    "    \n",
    "    u.cx(1,0)\n",
    "    u.x(1)\n",
    "    \n",
    "    u = u.to_gate()\n",
    "    u.name = \"$13^1 \\;mod\\;35$\" \n",
    "    c_U = u.control()\n",
    "    return c_U"
   ]
  },
  {
   "cell_type": "code",
   "execution_count": 5,
   "id": "3be32e84",
   "metadata": {},
   "outputs": [
    {
     "data": {
      "image/png": "[encoded data removed]",
      "text/plain": [
       "<Figure size 568.197x325.08 with 1 Axes>"
      ]
     },
     "execution_count": 5,
     "metadata": {},
     "output_type": "execute_result"
    }
   ],
   "source": [
    "# Circuito de Shor\n",
    "\n",
    "#Parametros\n",
    "l = 2\n",
    "k = 2\n",
    "n = k+l\n",
    "\n",
    "#Ensamblado\n",
    "qr = QuantumRegister(n, 'q')\n",
    "cr = ClassicalRegister(l, 'c')\n",
    "qc = QuantumCircuit(qr, cr)\n",
    "\n",
    "#Inicializacion\n",
    "qc.x(-1)\n",
    "\n",
    "# Superposicion de todos los estados x\n",
    "qc.h([i for i in range(l)])\n",
    "\n",
    "# U\n",
    "qc.append(U(), [0]+[2,3])\n",
    "qc.cx(1,2)\n",
    "\n",
    "# QFT inversa\n",
    "qc.append(QFT(l, insert_barriers=True, inverse=True), qargs=[qubit for qubit in range(l) ])\n",
    "\n",
    "# Medida\n",
    "qc.measure([qubit for qubit in range(l) ],[qubit for qubit in range(l) ])\n",
    "\n",
    "#Dibujo\n",
    "qc.draw(output=\"mpl\") "
   ]
  },
  {
   "cell_type": "markdown",
   "id": "f1f332ee",
   "metadata": {},
   "source": [
    "* Definición de funciones auxiliares"
   ]
  },
  {
   "cell_type": "code",
   "execution_count": 6,
   "id": "693bedb8",
   "metadata": {},
   "outputs": [],
   "source": [
    "def printTable(backend, n_count=l):\n",
    "    \"\"\"\n",
    "    Esta funcion toma la salida de un circuito cuantico simulado muchas veces y transforma lo valores\n",
    "    a una tabla con la distintas fases e intentos para r. Ademas de decir el tiempo que tomo ejecutarlo\n",
    "    \"\"\"\n",
    "    rows, measured_phases = [], []\n",
    "    for output in counts:\n",
    "        decimal = int(output, 2)\n",
    "        phase = decimal/(2**n_count) \n",
    "        measured_phases.append(phase)\n",
    "        frac = Fraction(phase).limit_denominator(35)\n",
    "        rows.append([f\"{output}(bin) = {decimal:>3}(dec)\", \n",
    "                 f\"{decimal}/{2**n_count} = {phase:.2f}\",f\"{frac.numerator}/{frac.denominator}\", frac.denominator])\n",
    "    # Print the rows in a table\n",
    "    print(\"Computador usado: \", backend, \"\\nTiempo tomado:\", results.time_taken)\n",
    "    headers=[\"Salida medida\", \"Fase\", \"Fraccion\", \"Intento de r\"]\n",
    "    df = pd.DataFrame(rows, columns=headers)\n",
    "    print(df)\n",
    "    \n",
    "    # Ejecucion de nuestro circuito en el computador REAL\n",
    "def runCircuit(backend_name):\n",
    "    \"\"\"\n",
    "    Esta funcion toma el nombre de una computadora cuantica real de la IBM y corre el circuito simulado en la seccion anterior\n",
    "    \"\"\"\n",
    "    backend = provider.get_backend(backend_name)# Escogemos los sistemas que se usarán en la práctica\n",
    "    transpiled_qc = transpile(qc, backend, optimization_level=3)\n",
    "    transpiled_qc = [transpiled_qc for i in range(9)]\n",
    "    job = execute(transpiled_qc, backend=backend, shots=8192, optimization_level=3)\n",
    "    job_monitor(job)\n",
    "    return backend, job\n"
   ]
  },
  {
   "cell_type": "markdown",
   "id": "02aef3cb",
   "metadata": {},
   "source": [
    "### Simulación\n",
    "\n",
    "En esta parte se simula el circuito en el QASM Simulator de Qiskit, básico para entender si es posible obtener los resultados correctos."
   ]
  },
  {
   "cell_type": "code",
   "execution_count": 7,
   "id": "c52e54e0",
   "metadata": {},
   "outputs": [
    {
     "data": {
      "image/png": "[encoded data removed]",
      "text/plain": [
       "<Figure size 504x360 with 1 Axes>"
      ]
     },
     "execution_count": 7,
     "metadata": {},
     "output_type": "execute_result"
    }
   ],
   "source": [
    "backend = Aer.get_backend('qasm_simulator')\n",
    "results = execute(qc, backend = backend, shots = 8192).result()\n",
    "counts = results.get_counts()\n",
    "plth(counts)"
   ]
  },
  {
   "cell_type": "code",
   "execution_count": 8,
   "id": "74e69255",
   "metadata": {},
   "outputs": [
    {
     "name": "stdout",
     "output_type": "stream",
     "text": [
      "Computador usado:  qasm_simulator \n",
      "Tiempo tomado: 0.019787311553955078\n",
      "        Salida medida        Fase Fraccion  Intento de r\n",
      "0  01(bin) =   1(dec)  1/4 = 0.25      1/4             4\n",
      "1  11(bin) =   3(dec)  3/4 = 0.75      3/4             4\n",
      "2  00(bin) =   0(dec)  0/4 = 0.00      0/1             1\n",
      "3  10(bin) =   2(dec)  2/4 = 0.50      1/2             2\n"
     ]
    }
   ],
   "source": [
    "printTable(backend)"
   ]
  },
  {
   "cell_type": "markdown",
   "id": "5f4cea8c",
   "metadata": {},
   "source": [
    "Como obtenemos $r=4$ con una probabilidad de $0.257$, no existe problema al escoger $3/4$,pues 3 y 4 son coprimos, y converge sin problemas a 0.75\n",
    "Basta con hacer el último paso del algoritmo y verificar que $r=4$ funciona con la base $a=13$, obteniendo asi $p$ y $q$ con:\n",
    "\n",
    "$$\n",
    "p = gcd(13^{4/2}+1,35) = 5 \\\\\n",
    "q = gcd(13^{4/2}-1,35) = 7\n",
    "$$\n",
    "\n",
    "Finalmente, $35=5.7$"
   ]
  },
  {
   "cell_type": "markdown",
   "id": "a07f65bd",
   "metadata": {},
   "source": [
    "### Emulación\n",
    "\n",
    "Para la parte de emulación utilizaremos 3 computadores cuánticos de la IBM:\n",
    "    \n",
    "- IBMQ Santiago: https://quantum-computing.ibm.com/services?services=systems&systems=yours&system=ibmq_santiago\n",
    "- IBMQ Quito: https://quantum-computing.ibm.com/services?services=systems&systems=yours&system=ibmq_quito\n",
    "- IBMQ Bogotá: https://quantum-computing.ibm.com/services?services=systems&systems=yours&system=ibmq_bogota\n",
    "        \n",
    "Cada circuito se emulará 10 veces, de allí obtendremos el promedio y la desviación estándard de las probabilidades de interés medidas. También se tomará en cuenta el tiempo de ejecución total de los 10 circuitos."
   ]
  },
  {
   "cell_type": "markdown",
   "id": "bd7cca8d",
   "metadata": {},
   "source": [
    "##### IBMQ Santiago"
   ]
  },
  {
   "cell_type": "code",
   "execution_count": 14,
   "id": "b4b2f5c9",
   "metadata": {},
   "outputs": [
    {
     "name": "stdout",
     "output_type": "stream",
     "text": [
      "Job Status: job has successfully run\n"
     ]
    }
   ],
   "source": [
    "backend0, job0 = runCircuit(\"ibmq_santiago\")\n",
    "results0 = job0.result()\n",
    "counts0 = results0.get_counts()"
   ]
  },
  {
   "cell_type": "code",
   "execution_count": 20,
   "id": "fe59d1db",
   "metadata": {},
   "outputs": [
    {
     "name": "stdout",
     "output_type": "stream",
     "text": [
      "0.2671169704861111 0.004729085684101759\n",
      "27.451878309249878\n"
     ]
    }
   ],
   "source": [
    "probs = list()\n",
    "for dict in counts0:\n",
    "    probs.append((dict['11'])/8192.)\n",
    "print(np.mean(probs),np.std(probs))\n",
    "print(results0.time_taken)"
   ]
  },
  {
   "cell_type": "code",
   "execution_count": 21,
   "id": "29ca0219",
   "metadata": {},
   "outputs": [
    {
     "data": {
      "image/png": "[encoded data removed]",
      "text/plain": [
       "<Figure size 504x360 with 1 Axes>"
      ]
     },
     "execution_count": 21,
     "metadata": {},
     "output_type": "execute_result"
    }
   ],
   "source": [
    "plth(counts0[0])"
   ]
  },
  {
   "cell_type": "markdown",
   "id": "737d90cc",
   "metadata": {},
   "source": [
    "###### Resultados\n",
    "\n",
    "* Tiempo de Ejecución: $27.452 s$\n",
    "* Probabilidad de medir $r=4$: Promedio = $0.267$ , $\\sigma$ = $0.005$ "
   ]
  },
  {
   "cell_type": "markdown",
   "id": "dae6d58d",
   "metadata": {},
   "source": [
    "##### IBMQ Quito"
   ]
  },
  {
   "cell_type": "code",
   "execution_count": 16,
   "id": "e0da6529",
   "metadata": {},
   "outputs": [
    {
     "name": "stdout",
     "output_type": "stream",
     "text": [
      "Job Status: job has successfully run\n"
     ]
    }
   ],
   "source": [
    "backend1, job1 = runCircuit(\"ibmq_quito\")\n",
    "results1 = job1.result()\n",
    "counts1 = results1.get_counts()"
   ]
  },
  {
   "cell_type": "code",
   "execution_count": 17,
   "id": "ee75ad73",
   "metadata": {},
   "outputs": [
    {
     "name": "stdout",
     "output_type": "stream",
     "text": [
      "0.2094048394097222 0.014675438880972634\n",
      "24.492341995239258\n"
     ]
    }
   ],
   "source": [
    "probs = list()\n",
    "for dict in counts1:\n",
    "    probs.append((dict['11'])/8192.)\n",
    "print(np.mean(probs),np.std(probs))\n",
    "print(results1.time_taken)"
   ]
  },
  {
   "cell_type": "code",
   "execution_count": 23,
   "id": "d9ec6618",
   "metadata": {},
   "outputs": [
    {
     "data": {
      "image/png": "[encoded data removed]",
      "text/plain": [
       "<Figure size 504x360 with 1 Axes>"
      ]
     },
     "execution_count": 23,
     "metadata": {},
     "output_type": "execute_result"
    }
   ],
   "source": [
    "plth(counts1[0])"
   ]
  },
  {
   "cell_type": "markdown",
   "id": "06fe9179",
   "metadata": {},
   "source": [
    "###### Resultados\n",
    "\n",
    "* Tiempo de Ejecución: $24.492 s$\n",
    "* Probabilidad de medir $r=4$: Promedio = $0.209$ , $\\sigma$ = $0.015$  "
   ]
  },
  {
   "cell_type": "markdown",
   "id": "ec5b7bed",
   "metadata": {},
   "source": [
    "##### IBMQ Bogotá"
   ]
  },
  {
   "cell_type": "code",
   "execution_count": 18,
   "id": "679afc7a",
   "metadata": {},
   "outputs": [
    {
     "name": "stdout",
     "output_type": "stream",
     "text": [
      "Job Status: job has successfully run\n"
     ]
    }
   ],
   "source": [
    "backend2, job2 = runCircuit(\"ibmq_bogota\")\n",
    "results2 = job2.result()\n",
    "counts2 = results2.get_counts()"
   ]
  },
  {
   "cell_type": "code",
   "execution_count": 24,
   "id": "d99d6c40",
   "metadata": {},
   "outputs": [
    {
     "name": "stdout",
     "output_type": "stream",
     "text": [
      "0.2583957248263889 0.010328840958685965\n",
      "27.62077283859253\n"
     ]
    }
   ],
   "source": [
    "probs = list()\n",
    "for dict in counts2:\n",
    "    probs.append((dict['11'])/8192.)\n",
    "print(np.mean(probs),np.std(probs))\n",
    "print(results2.time_taken)"
   ]
  },
  {
   "cell_type": "code",
   "execution_count": 22,
   "id": "d5f3c5e8",
   "metadata": {},
   "outputs": [
    {
     "data": {
      "image/png": "[encoded data removed]",
      "text/plain": [
       "<Figure size 504x360 with 1 Axes>"
      ]
     },
     "execution_count": 22,
     "metadata": {},
     "output_type": "execute_result"
    }
   ],
   "source": [
    "plth(counts2[0])"
   ]
  },
  {
   "cell_type": "markdown",
   "id": "d7caed34",
   "metadata": {},
   "source": [
    "###### Resultados\n",
    "\n",
    "* Tiempo de Ejecución: $27.621 s$\n",
    "* Probabilidad de medir $r=4$: Promedio = $0.258$ , $\\sigma$ = $0.010$  "
   ]
  },
  {
   "cell_type": "code",
   "execution_count": null,
   "id": "b73f0cf6",
   "metadata": {},
   "outputs": [],
   "source": []
  }
 ],
 "metadata": {
  "kernelspec": {
   "display_name": "Python 3",
   "language": "python",
   "name": "python3"
  },
  "language_info": {
   "codemirror_mode": {
    "name": "ipython",
    "version": 3
   },
   "file_extension": ".py",
   "mimetype": "text/x-python",
   "name": "python",
   "nbconvert_exporter": "python",
   "pygments_lexer": "ipython3",
   "version": "3.9.4"
  }
 },
 "nbformat": 4,
 "nbformat_minor": 5
}
