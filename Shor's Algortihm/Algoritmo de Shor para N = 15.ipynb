{
 "cells": [
  {
   "cell_type": "markdown",
   "id": "300187b9",
   "metadata": {},
   "source": [
    "### Algoritmo de Shor para $N = 15$\n",
    "\n",
    "En este caso se simula y emula el algoritmo de Shor para $N=15$ y $a=13$ usando el circuito de la figura (2)."
   ]
  },
  {
   "cell_type": "markdown",
   "id": "95aa4237",
   "metadata": {},
   "source": [
    "* Carga de librerias"
   ]
  },
  {
   "cell_type": "code",
   "execution_count": 3,
   "id": "dc69ed08",
   "metadata": {},
   "outputs": [],
   "source": [
    "# Librerias Qiskit\n",
    "from qiskit import *\n",
    "from qiskit import QuantumCircuit, transpile, assemble, Aer, IBMQ\n",
    "from qiskit.providers.ibmq import least_busy\n",
    "from qiskit.tools.monitor import job_monitor\n",
    "from qiskit.extensions import *\n",
    "from qiskit.circuit.library import QFT\n",
    "# Plots\n",
    "from qiskit.visualization import plot_histogram as plth"
   ]
  },
  {
   "cell_type": "code",
   "execution_count": 4,
   "id": "257ee389",
   "metadata": {},
   "outputs": [],
   "source": [
    "# Extras\n",
    "import numpy as np\n",
    "\n",
    "from math import pi, ceil, log, gcd\n",
    "import pandas as pd\n",
    "from fractions import Fraction\n",
    "import random\n",
    "random.seed(1) #Permite hacer simulaciones reproducibles con las misma probabilidades"
   ]
  },
  {
   "cell_type": "code",
   "execution_count": 5,
   "id": "ee442f3d",
   "metadata": {},
   "outputs": [],
   "source": [
    "#Cargar La cuenta en la IBM\n",
    "IBMQ.load_account()\n",
    "provider = IBMQ.get_provider('ibm-q')"
   ]
  },
  {
   "cell_type": "markdown",
   "id": "1aa8779e",
   "metadata": {},
   "source": [
    "* Construcción del circuito de la figura (2)."
   ]
  },
  {
   "cell_type": "code",
   "execution_count": 6,
   "id": "3be32e84",
   "metadata": {},
   "outputs": [
    {
     "data": {
      "image/png": "[encoded data removed]",
      "text/plain": [
       "<Figure size 327.252x204.68 with 1 Axes>"
      ]
     },
     "execution_count": 6,
     "metadata": {},
     "output_type": "execute_result"
    }
   ],
   "source": [
    "# Circuito de Shor\n",
    "\n",
    "#Parametros\n",
    "l = 1\n",
    "k = 1\n",
    "n = k+l\n",
    "\n",
    "#Ensamblado\n",
    "qr = QuantumRegister(n, 'q')\n",
    "cr = ClassicalRegister(l, 'c')\n",
    "qc = QuantumCircuit(qr, cr)\n",
    "\n",
    "#Inicializacion\n",
    "qc.x(-1)\n",
    "\n",
    "# Superposicion de todos los estados x\n",
    "qc.h(0)\n",
    "\n",
    "# U\n",
    "qc.cx(0,1)\n",
    "\n",
    "# QFT inversa\n",
    "qc.append(QFT(l, insert_barriers=True, inverse=True), qargs=[0]) # Que realmente es H pero a efectos practicos no hace mal verlo asi.\n",
    "\n",
    "# Medida\n",
    "qc.measure([qubit for qubit in range(l) ],[qubit for qubit in range(l) ])\n",
    "\n",
    "# Dibujo\n",
    "qc.draw(output=\"mpl\") "
   ]
  },
  {
   "cell_type": "markdown",
   "id": "700d67fc",
   "metadata": {},
   "source": [
    "* Definición de funciones auxiliares"
   ]
  },
  {
   "cell_type": "code",
   "execution_count": 8,
   "id": "693bedb8",
   "metadata": {},
   "outputs": [],
   "source": [
    "def printTable(backend, n_count=l):\n",
    "    \"\"\"\n",
    "    Esta funcion toma la salida de un circuito cuantico simulado muchas veces y transforma lo valores\n",
    "    a una tabla con la distintas fases e intentos para r. Ademas de decir el tiempo que tomo ejecutarlo\n",
    "    \"\"\"\n",
    "    rows, measured_phases = [], []\n",
    "    for output in counts:\n",
    "        decimal = int(output, 2)\n",
    "        phase = decimal/(2**n_count) \n",
    "        measured_phases.append(phase)\n",
    "        frac = Fraction(phase).limit_denominator(15)\n",
    "        rows.append([f\"{output}(bin) = {decimal:>3}(dec)\", \n",
    "                 f\"{decimal}/{2**n_count} = {phase:.2f}\",f\"{frac.numerator}/{frac.denominator}\", frac.denominator])\n",
    "    # Print the rows in a table\n",
    "    print(\"Computador usado: \", backend, \"\\nTiempo tomado:\", results.time_taken)\n",
    "    headers=[\"Salida medida\", \"Fase\", \"Fraccion\", \"Intento de r\"]\n",
    "    df = pd.DataFrame(rows, columns=headers)\n",
    "    print(df)\n",
    "    \n",
    "    # Ejecucion de nuestro circuito en el computador REAL\n",
    "def runCircuit(backend_name):\n",
    "    \"\"\"\n",
    "    Esta funcion toma el nombre de una computadora cuantica real de la IBM y corre el circuito simulado en la seccion anterior\n",
    "    \"\"\"\n",
    "    backend = provider.get_backend(backend_name)# Escogemos los sistemas que se usarán en la práctica\n",
    "    transpiled_qc = transpile(qc, backend, optimization_level=3)\n",
    "    transpiled_qc = [transpiled_qc for i in range(9)]\n",
    "    job = execute(transpiled_qc, backend=backend, shots=8192, optimization_level=3)\n",
    "    job_monitor(job)\n",
    "    return backend, job"
   ]
  },
  {
   "cell_type": "markdown",
   "id": "c83121bc",
   "metadata": {},
   "source": [
    "### Simulación\n",
    "\n",
    "En esta parte se simula el circuito en el QASM Simulator de Qiskit, básico para entender si es posible obtener los resultados correctos."
   ]
  },
  {
   "cell_type": "code",
   "execution_count": 6,
   "id": "c52e54e0",
   "metadata": {},
   "outputs": [
    {
     "data": {
      "image/png": "[encoded data removed]",
      "text/plain": [
       "<Figure size 504x360 with 1 Axes>"
      ]
     },
     "execution_count": 6,
     "metadata": {},
     "output_type": "execute_result"
    }
   ],
   "source": [
    "backend = Aer.get_backend('qasm_simulator')\n",
    "results = execute(qc, backend = backend, shots = 8192).result()\n",
    "counts = results.get_counts()\n",
    "plth(counts)"
   ]
  },
  {
   "cell_type": "code",
   "execution_count": 7,
   "id": "74e69255",
   "metadata": {},
   "outputs": [
    {
     "name": "stdout",
     "output_type": "stream",
     "text": [
      "Computador usado:  qasm_simulator \n",
      "Tiempo tomado: 0.01998281478881836\n",
      "       Salida medida        Fase Fraccion  Intento de r\n",
      "0  1(bin) =   1(dec)  1/2 = 0.50      1/2             2\n",
      "1  0(bin) =   0(dec)  0/2 = 0.00      0/1             1\n"
     ]
    }
   ],
   "source": [
    "printTable(backend)"
   ]
  },
  {
   "cell_type": "markdown",
   "id": "0228729b",
   "metadata": {},
   "source": [
    "Como vemos obtenemos $r=2$ con una probabilidad de $0.501$, no existe problema al escoger $1/2$ pues 1 y 2 son coprimos.Ademas $1/2$ converge sin problemas a 0.25.\n",
    "\n",
    "Basta con hacer el último paso del algoritmo y verificar que $r=2$ funciona con la base $a=11$, obteniendo asi $p$ y $q$ con:\n",
    "\n",
    "$$\n",
    "p = gcd(11^{2/2}+1,15) = 3 \\\\\n",
    "q = gcd(11^{2/2}-1,15) = 5\n",
    "$$\n",
    "\n",
    "Finalmente, $15=3.5$"
   ]
  },
  {
   "cell_type": "markdown",
   "id": "5763d717",
   "metadata": {},
   "source": [
    "### Emulación\n",
    "\n",
    "Para la parte de emulación utilizaremos 3 computadores cuánticos de la IBM:\n",
    "    \n",
    "- IBMQ Santiago: https://quantum-computing.ibm.com/services?services=systems&systems=yours&system=ibmq_santiago\n",
    "- IBMQ Quito: https://quantum-computing.ibm.com/services?services=systems&systems=yours&system=ibmq_quito\n",
    "- IBMQ Bogota: https://quantum-computing.ibm.com/services?services=systems&systems=yours&system=ibmq_bogota\n",
    "        \n",
    "Cada circuito se emulará 10 veces, de allí obtendremos el promedio y la desviación estándard de las probabilidades de interés medidas.\n",
    "También se tomará en cuenta el tiempo de ejecución total de los 10 circuitos.\n",
    "\n",
    "Gráficamos la primera emulación a ver que clase de ruidos presenta."
   ]
  },
  {
   "cell_type": "markdown",
   "id": "d59c9c31",
   "metadata": {},
   "source": [
    "##### IBMQ Santiago"
   ]
  },
  {
   "cell_type": "code",
   "execution_count": 10,
   "id": "b4b2f5c9",
   "metadata": {},
   "outputs": [
    {
     "name": "stdout",
     "output_type": "stream",
     "text": [
      "Job Status: job has successfully run\n"
     ]
    }
   ],
   "source": [
    "backend0, job0 = runCircuit(\"ibmq_santiago\")\n",
    "results0 = job0.result()\n",
    "counts0 = results0.get_counts()"
   ]
  },
  {
   "cell_type": "code",
   "execution_count": 18,
   "id": "fe59d1db",
   "metadata": {
    "scrolled": true
   },
   "outputs": [
    {
     "name": "stdout",
     "output_type": "stream",
     "text": [
      "0.4786783854166667 0.01474386146384331\n",
      "26.217875719070435\n"
     ]
    }
   ],
   "source": [
    "probs = list()\n",
    "for dict in counts0:\n",
    "    probs.append((dict['1'])/8192.)\n",
    "print(np.mean(probs),np.std(probs))\n",
    "print(results0.time_taken)"
   ]
  },
  {
   "cell_type": "code",
   "execution_count": 19,
   "id": "975145b4",
   "metadata": {},
   "outputs": [
    {
     "data": {
      "image/png": "[encoded data removed]",
      "text/plain": [
       "<Figure size 504x360 with 1 Axes>"
      ]
     },
     "execution_count": 19,
     "metadata": {},
     "output_type": "execute_result"
    }
   ],
   "source": [
    "plth(counts0[0])"
   ]
  },
  {
   "cell_type": "markdown",
   "id": "0fd1e92d",
   "metadata": {},
   "source": [
    "###### Resultados\n",
    "\n",
    "* Tiempo de Ejecución: $26.217 s$\n",
    "* Probabilidad de medir $r=2$: Promedio = $0.479$ , $\\sigma$ = $0.015$     "
   ]
  },
  {
   "cell_type": "markdown",
   "id": "1c0d316c",
   "metadata": {},
   "source": [
    "##### IBMQ Quito"
   ]
  },
  {
   "cell_type": "code",
   "execution_count": 14,
   "id": "e0da6529",
   "metadata": {},
   "outputs": [
    {
     "name": "stdout",
     "output_type": "stream",
     "text": [
      "Job Status: job has successfully run\n"
     ]
    }
   ],
   "source": [
    "backend1, job1 = runCircuit(\"ibmq_quito\")\n",
    "results1 = job1.result()\n",
    "counts1 = results1.get_counts()"
   ]
  },
  {
   "cell_type": "code",
   "execution_count": 24,
   "id": "ee75ad73",
   "metadata": {},
   "outputs": [
    {
     "name": "stdout",
     "output_type": "stream",
     "text": [
      "0.4619683159722222 0.025908518300832725\n",
      "23.16439414024353\n"
     ]
    }
   ],
   "source": [
    "probs = list()\n",
    "for dict in counts1:\n",
    "    probs.append((dict['1'])/8192.)\n",
    "print(np.mean(probs),np.std(probs))\n",
    "print(results1.time_taken)"
   ]
  },
  {
   "cell_type": "code",
   "execution_count": 25,
   "id": "39e3cd09",
   "metadata": {},
   "outputs": [
    {
     "data": {
      "image/png": "[encoded data removed]",
      "text/plain": [
       "<Figure size 504x360 with 1 Axes>"
      ]
     },
     "execution_count": 25,
     "metadata": {},
     "output_type": "execute_result"
    }
   ],
   "source": [
    "plth(counts1[0])"
   ]
  },
  {
   "cell_type": "markdown",
   "id": "16878e64",
   "metadata": {},
   "source": [
    "###### Resultados\n",
    "\n",
    "* Tiempo de Ejecución: $23.164 s$\n",
    "* Probabilidad de medir $r=2$: Promedio = $0.462$ , $\\sigma$ = $0.026$     "
   ]
  },
  {
   "cell_type": "markdown",
   "id": "306ebb82",
   "metadata": {},
   "source": [
    "##### IBMQ Bogota"
   ]
  },
  {
   "cell_type": "code",
   "execution_count": 16,
   "id": "265182c6",
   "metadata": {},
   "outputs": [
    {
     "name": "stdout",
     "output_type": "stream",
     "text": [
      "Job Status: job has successfully run\n"
     ]
    }
   ],
   "source": [
    "backend2, job2 = runCircuit(\"ibmq_bogota\")\n",
    "results2 = job2.result()\n",
    "counts2 = results2.get_counts()"
   ]
  },
  {
   "cell_type": "code",
   "execution_count": 22,
   "id": "4c977d7a",
   "metadata": {},
   "outputs": [
    {
     "name": "stdout",
     "output_type": "stream",
     "text": [
      "0.4439968532986111 0.03523512940623692\n",
      "26.204873085021973\n"
     ]
    }
   ],
   "source": [
    "probs = list()\n",
    "for dict in counts2:\n",
    "    probs.append((dict['1'])/8192.)\n",
    "print(np.mean(probs),np.std(probs))\n",
    "print(results2.time_taken)"
   ]
  },
  {
   "cell_type": "code",
   "execution_count": 23,
   "id": "85ad08d4",
   "metadata": {},
   "outputs": [
    {
     "data": {
      "image/png": "[encoded data removed]",
      "text/plain": [
       "<Figure size 504x360 with 1 Axes>"
      ]
     },
     "execution_count": 23,
     "metadata": {},
     "output_type": "execute_result"
    }
   ],
   "source": [
    "plth(counts2[0])"
   ]
  },
  {
   "cell_type": "markdown",
   "id": "96125df8",
   "metadata": {},
   "source": [
    "###### Resultados\n",
    "\n",
    "* Tiempo de Ejecución: $26.205 s$\n",
    "* Probabilidad de medir $r=2$: Promedio = $0.444$ , $\\sigma$ = $0.035$     "
   ]
  }
 ],
 "metadata": {
  "kernelspec": {
   "display_name": "Python 3",
   "language": "python",
   "name": "python3"
  },
  "language_info": {
   "codemirror_mode": {
    "name": "ipython",
    "version": 3
   },
   "file_extension": ".py",
   "mimetype": "text/x-python",
   "name": "python",
   "nbconvert_exporter": "python",
   "pygments_lexer": "ipython3",
   "version": "3.9.4"
  }
 },
 "nbformat": 4,
 "nbformat_minor": 5
}
