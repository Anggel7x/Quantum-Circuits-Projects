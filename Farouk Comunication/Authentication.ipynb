{
 "cells": [
  {
   "cell_type": "markdown",
   "id": "03937d3b",
   "metadata": {},
   "source": [
    "# Proceso de Autenticación\n",
    "\n",
    "### Angel Alvarez"
   ]
  },
  {
   "cell_type": "code",
   "execution_count": 1,
   "id": "4300c1a4",
   "metadata": {},
   "outputs": [],
   "source": [
    "# Librerias Qiskit\n",
    "from qiskit import *\n",
    "from qiskit import QuantumCircuit, transpile, assemble, Aer, IBMQ\n",
    "from qiskit.providers.ibmq import least_busy\n",
    "from qiskit.tools.monitor import job_monitor\n",
    "from qiskit.extensions import *\n",
    "# Plots\n",
    "from qiskit.visualization import plot_histogram as plth\n",
    "from random import choice"
   ]
  },
  {
   "cell_type": "code",
   "execution_count": 2,
   "id": "09c6ab05",
   "metadata": {},
   "outputs": [],
   "source": [
    "def GHZ_init(n):\n",
    "    \"\"\"\n",
    "    Esta funcion genera una copuerta de n \n",
    "    qubits para transformar a estados GHZ.\n",
    "    \"\"\"\n",
    "    qc = QuantumCircuit(n)\n",
    "\n",
    "    #Estado GHZ\n",
    "    qc.h(0)\n",
    "    for i in range(1, n):\n",
    "        qc.cx(0, i)\n",
    "    \n",
    "    GHZ = qc.to_gate()\n",
    "    GHZ.name = '$GHZ$'\n",
    "    \n",
    "    return GHZ\n",
    "\n",
    "def C_u(Jk):\n",
    "    \"\"\"\n",
    "    Esta función toma un valor binario de \n",
    "    longitud 2  para realizar la codifi-\n",
    "    cacion por transformacion C_{OP}.\n",
    "    \"\"\"\n",
    "    qc = QuantumCircuit(2)\n",
    "    \n",
    "    if Jk == \"0\":\n",
    "        qc.cx(0,1)\n",
    "        name_ = \"$C_0$\"\n",
    "    else :\n",
    "        qc.h(0)\n",
    "        qc.h(1)\n",
    "        qc.cx(0,1)\n",
    "        qc.h(0)\n",
    "        qc.h(1)\n",
    "        \n",
    "        name_ = \"$C_1$\"\n",
    "    \n",
    "    c_gate = qc.to_gate()\n",
    "    c_gate.name = name_\n",
    "    \n",
    "    return c_gate\n"
   ]
  },
  {
   "cell_type": "code",
   "execution_count": 3,
   "id": "ac0f853c",
   "metadata": {},
   "outputs": [],
   "source": [
    "def Authentication_Circuit(n_users, u_keys, qs_key):\n",
    "    \"\"\"\n",
    "    Esta función crea el circuito de autenticación entre los usuarios\n",
    "    y el QS. Devuelve el resultado de las medidas sobre las particulas n\n",
    "    \"\"\"\n",
    "    n_qubits = 2*n_users + 1 ;\n",
    "\n",
    "    qc = QuantumCircuit(n_qubits, n_users)\n",
    "    #Estado GHZ\n",
    "    \n",
    "    GHZ = GHZ_init(n_users + 1)\n",
    "    qc.append(GHZ, range(n_users+1))\n",
    "    \n",
    "    # Inicialización de los usuarios\n",
    "    \n",
    "    for i in range(n_users):\n",
    "        if u_keys[i][i] == '1':\n",
    "            qc.x(n_users + 1 + i)\n",
    "    \n",
    "    # Codificacion con C_op\n",
    "    \n",
    "    for i in range(n_users):\n",
    "        j2i_u = u_keys[i][n_users]\n",
    "        \n",
    "        qc.append(C_u(j2i_u), [1+i,n_users+1+i])\n",
    "    \n",
    "    # Decodificaccion del QS\n",
    "    \n",
    "    j2i_qs = qs_key[n_users]\n",
    "    c_op_qs = C_u(j2i_qs)\n",
    "    \n",
    "    for i in range(n_users):\n",
    "        qc.append(c_op_qs , [0, n_users+1+i])\n",
    "    \n",
    "    qc.barrier()\n",
    "    # Medida \n",
    "    qc.measure(range(n_users+1,n_qubits),range(n_users))\n",
    "\n",
    "    # Corrida y visualización de los resultados\n",
    "    sim = Aer.get_backend('qasm_simulator')\n",
    "    results = execute(qc, backend = sim, shots = 1).result()\n",
    "    counts = results.get_counts()\n",
    "    RESULT = list(counts.keys())[0][::-1]\n",
    "    \n",
    "    return RESULT\n"
   ]
  },
  {
   "cell_type": "code",
   "execution_count": 4,
   "id": "673d5995",
   "metadata": {},
   "outputs": [],
   "source": [
    "def Users_Authenticated(res, qs_key):\n",
    "    \"\"\"\n",
    "    Esta función confirma si el resultado del circuito \n",
    "    corresponde a lo esperado segun la llave del QS.\n",
    "    \"\"\"\n",
    "    l = len(res)\n",
    "    return ( res == qs_key[:l])\n",
    "\n",
    "def Test_Authentication(n_users, n):\n",
    "    \"\"\"\n",
    "    Esta función corre el proceso de certificado de la red de autenticación.\n",
    "    \"\"\"\n",
    "    true = 0\n",
    "    for i in range(n):\n",
    "        common_key =  ''.join(choice('01') for _ in range(n_users+1))\n",
    "        u_keys = [common_key for i in range(n_users)]\n",
    "        qs_key = common_key\n",
    "        res = Authentication_Circuit(n_users, u_keys, qs_key)\n",
    "        \n",
    "        if Users_Authenticated(res, qs_key):\n",
    "            true = true +1\n",
    "            \n",
    "    print(f\"Authentication runed: {n}\\n\")\n",
    "    print(f\"Number of users authenticated: {n_users}\\n\")\n",
    "    print(f\"Percentage of times all users got authenticated: {true/n*100}\")\n",
    "    "
   ]
  },
  {
   "cell_type": "code",
   "execution_count": 5,
   "id": "4ec3f969",
   "metadata": {},
   "outputs": [
    {
     "name": "stdout",
     "output_type": "stream",
     "text": [
      "Authentication runed: 100\n",
      "\n",
      "Number of users authenticated: 10\n",
      "\n",
      "Percentage of times all users got authenticated: 100.0\n"
     ]
    }
   ],
   "source": [
    "Test_Authentication(10, 100)"
   ]
  },
  {
   "cell_type": "code",
   "execution_count": null,
   "id": "14947d80",
   "metadata": {},
   "outputs": [],
   "source": []
  }
 ],
 "metadata": {
  "kernelspec": {
   "display_name": "Python 3",
   "language": "python",
   "name": "python3"
  },
  "language_info": {
   "codemirror_mode": {
    "name": "ipython",
    "version": 3
   },
   "file_extension": ".py",
   "mimetype": "text/x-python",
   "name": "python",
   "nbconvert_exporter": "python",
   "pygments_lexer": "ipython3",
   "version": "3.9.4"
  }
 },
 "nbformat": 4,
 "nbformat_minor": 5
}
